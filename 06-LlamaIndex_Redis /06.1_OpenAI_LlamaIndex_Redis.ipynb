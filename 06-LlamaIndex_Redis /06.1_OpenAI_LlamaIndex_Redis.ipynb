{
  "cells": [
    {
      "cell_type": "markdown",
      "metadata": {
        "id": "view-in-github",
        "colab_type": "text"
      },
      "source": [
        "<a href=\"https://colab.research.google.com/github/Andrei-Larionov/RAGTest/blob/main/06-LlamaIndex_Redis%20/06.1_OpenAI_LlamaIndex_Redis.ipynb\" target=\"_parent\"><img src=\"https://colab.research.google.com/assets/colab-badge.svg\" alt=\"Open In Colab\"/></a>"
      ]
    },
    {
      "cell_type": "markdown",
      "metadata": {
        "id": "IbWAIclyoNFP"
      },
      "source": [
        "# Document Question Answering with LlamaIndex, OpenAI and Redis\n",
        "\n",
        "![Redis](https://redis.com/wp-content/themes/wpx/assets/images/logo-redis.svg?auto=webp&quality=85,75&width=120)\n",
        "\n",
        "This notebook would use OpenAI, Redis with Vector Similarity Search and LlamaIndex to answer questions about the information contained in a document."
      ]
    },
    {
      "cell_type": "code",
      "execution_count": 55,
      "metadata": {
        "id": "1W9kTV8gdOuA"
      },
      "outputs": [],
      "source": [
        "!pip install -q llama_index redis html2text trafilatura\n",
        "!pip install -q pypdf"
      ]
    },
    {
      "cell_type": "code",
      "execution_count": 56,
      "metadata": {
        "id": "b855h60jdL8y"
      },
      "outputs": [],
      "source": [
        "\n",
        "\n",
        "from llama_index import (\n",
        "      TrafilaturaWebReader,\n",
        "      GPTVectorStoreIndex,\n",
        "      SimpleDirectoryReader,\n",
        "      StorageContext,\n",
        "      ServiceContext\n",
        "    )\n",
        "from llama_index.vector_stores import RedisVectorStore\n",
        "\n"
      ]
    },
    {
      "cell_type": "code",
      "execution_count": 57,
      "metadata": {
        "id": "5y30hjJunmC8"
      },
      "outputs": [],
      "source": [
        "import sys\n",
        "\n",
        "import logging\n",
        "logging.basicConfig(stream=sys.stdout, level=logging.DEBUG) # logging.DEBUG for more verbose output\n",
        "logging.getLogger().addHandler(logging.StreamHandler(stream=sys.stdout))"
      ]
    },
    {
      "cell_type": "markdown",
      "metadata": {
        "id": "8R0nDt99LmTI"
      },
      "source": [
        "Initialize OpenAI. You need to supply the OpenAI API key (starts with `sk-...`) when prompted. You can find your API key at https://platform.openai.com/account/api-keys"
      ]
    },
    {
      "cell_type": "code",
      "execution_count": 59,
      "metadata": {
        "id": "iU2xMRwmeTn_"
      },
      "outputs": [],
      "source": [
        "import openai\n",
        "import os\n",
        "import getpass\n",
        "\n",
        "OPENAI_API_KEY = os.getenv(\"OPENAI_API_KEY\",\"\")\n",
        "if OPENAI_API_KEY == \"\":\n",
        "    key=getpass.getpass(prompt='OpenAI Key: ', stream=None)\n",
        "    os.environ['OPENAI_API_KEY']=key\n",
        "\n",
        "openai.api_key = os.getenv(\"OPENAI_API_KEY\")"
      ]
    },
    {
      "cell_type": "markdown",
      "metadata": {
        "id": "lAdb7as2LmTI"
      },
      "source": [
        "### Install Redis Stack\n",
        "\n",
        "Redis Search will be used as Vector Similarity Search engine for LangChain. Instead of using in-notebook Redis Stack https://redis.io/docs/getting-started/install-stack/ you can provision your own free instance of Redis in the cloud. Get your own Free Redis Cloud instance at https://redis.com/try-free/"
      ]
    },
    {
      "cell_type": "code",
      "execution_count": 60,
      "metadata": {
        "colab": {
          "base_uri": "https://localhost:8080/"
        },
        "id": "Fowy4iKxgrTR",
        "outputId": "b669ddf1-1140-4376-af63-68081a95f239"
      },
      "outputs": [
        {
          "output_type": "stream",
          "name": "stdout",
          "text": [
            "deb [signed-by=/usr/share/keyrings/redis-archive-keyring.gpg] https://packages.redis.io/deb jammy main\n",
            "Starting redis-stack-server, database path /var/lib/redis-stack\n"
          ]
        },
        {
          "output_type": "stream",
          "name": "stderr",
          "text": [
            "gpg: cannot open '/dev/tty': No such device or address\n",
            "curl: (23) Failed writing body\n"
          ]
        }
      ],
      "source": [
        "%%sh\n",
        "curl -fsSL https://packages.redis.io/gpg | sudo gpg --dearmor -o /usr/share/keyrings/redis-archive-keyring.gpg\n",
        "echo \"deb [signed-by=/usr/share/keyrings/redis-archive-keyring.gpg] https://packages.redis.io/deb $(lsb_release -cs) main\" | sudo tee /etc/apt/sources.list.d/redis.list\n",
        "sudo apt-get update  > /dev/null 2>&1\n",
        "sudo apt-get install redis-stack-server  > /dev/null 2>&1\n",
        "redis-stack-server --daemonize yes"
      ]
    },
    {
      "cell_type": "markdown",
      "metadata": {
        "id": "ZSh695yILmTJ"
      },
      "source": [
        "### Connect to Redis\n",
        "\n",
        "By default this notebook would connect to the local instance of Redis Stack. If you have your own Redis Cloud instance - replace REDIS_PASSWORD, REDIS_HOST and REDIS_PORT values with your own."
      ]
    },
    {
      "cell_type": "code",
      "execution_count": 61,
      "metadata": {
        "id": "Ww9kR1QegsQV"
      },
      "outputs": [],
      "source": [
        "import redis\n",
        "import os\n",
        "\n",
        "\n",
        "REDIS_HOST = os.getenv(\"REDIS_HOST\", \"localhost\")\n",
        "REDIS_PORT = os.getenv(\"REDIS_PORT\", \"6379\")\n",
        "REDIS_PASSWORD = os.getenv(\"REDIS_PASSWORD\", \"\")\n",
        "#Replace values above with your own if using Redis Cloud instance\n",
        "#REDIS_HOST=\"redis-18374.c253.us-central1-1.gce.cloud.redislabs.com\"\n",
        "#REDIS_PORT=18374\n",
        "#REDIS_PASSWORD=\"1TNxTEdYRDgIDKM2gDfasupCADXXXX\"\n",
        "\n",
        "#shortcut for redis-cli $REDIS_CONN command\n",
        "if REDIS_PASSWORD!=\"\":\n",
        "  os.environ[\"REDIS_CONN\"]=f\"-h {REDIS_HOST} -p {REDIS_PORT} -a {REDIS_PASSWORD} --no-auth-warning\"\n",
        "else:\n",
        "  os.environ[\"REDIS_CONN\"]=f\"-h {REDIS_HOST} -p {REDIS_PORT}\"\n",
        "\n",
        "REDIS_URL = f\"redis://:{REDIS_PASSWORD}@{REDIS_HOST}:{REDIS_PORT}\"\n",
        "\n"
      ]
    },
    {
      "cell_type": "markdown",
      "source": [],
      "metadata": {
        "id": "pUPCmoPLUPUK"
      }
    },
    {
      "cell_type": "code",
      "source": [
        "%%sh\n",
        "rm -rf docs\n",
        "if [ ! -d \"docs\" ]\n",
        "then\n",
        "  mkdir docs\n",
        "  wget https://raw.githubusercontent.com/Andrei-Larionov/RAGTest/main/General%20ledger%20users%20guide.pdf?raw=true \\\n",
        "  -O ./docs/General%20ledger%20users%20guide.pdf -P docs\n",
        "fi"
      ],
      "metadata": {
        "colab": {
          "base_uri": "https://localhost:8080/"
        },
        "id": "2GgV4WZgUOa9",
        "outputId": "e03110d2-5ebc-4b58-f002-f896b412a3b8"
      },
      "execution_count": 31,
      "outputs": [
        {
          "output_type": "stream",
          "name": "stderr",
          "text": [
            "--2023-09-25 21:56:38--  https://raw.githubusercontent.com/Andrei-Larionov/RAGTest/main/General%20ledger%20users%20guide.pdf?raw=true\n",
            "Resolving raw.githubusercontent.com (raw.githubusercontent.com)... 185.199.109.133, 185.199.111.133, 185.199.108.133, ...\n",
            "Connecting to raw.githubusercontent.com (raw.githubusercontent.com)|185.199.109.133|:443... connected.\n",
            "HTTP request sent, awaiting response... 200 OK\n",
            "Length: 6751120 (6.4M) [application/octet-stream]\n",
            "Saving to: ‘./docs/General%20ledger%20users%20guide.pdf -P docs’\n",
            "\n",
            "     0K .......... .......... .......... .......... ..........  0%  656K 10s\n",
            "    50K .......... .......... .......... .......... ..........  1% 4.21M 6s\n",
            "   100K .......... .......... .......... .......... ..........  2% 1.85M 5s\n",
            "   150K .......... .......... .......... .......... ..........  3% 5.63M 4s\n",
            "   200K .......... .......... .......... .......... ..........  3% 7.33M 3s\n",
            "   250K .......... .......... .......... .......... ..........  4% 9.04M 3s\n",
            "   300K .......... .......... .......... .......... ..........  5% 2.50M 3s\n",
            "   350K .......... .......... .......... .......... ..........  6% 13.6M 2s\n",
            "   400K .......... .......... .......... .......... ..........  6% 11.4M 2s\n",
            "   450K .......... .......... .......... .......... ..........  7% 14.1M 2s\n",
            "   500K .......... .......... .......... .......... ..........  8% 17.3M 2s\n",
            "   550K .......... .......... .......... .......... ..........  9% 15.2M 2s\n",
            "   600K .......... .......... .......... .......... ..........  9% 17.0M 2s\n",
            "   650K .......... .......... .......... .......... .......... 10% 2.87M 2s\n",
            "   700K .......... .......... .......... .......... .......... 11% 29.6M 2s\n",
            "   750K .......... .......... .......... .......... .......... 12% 26.9M 1s\n",
            "   800K .......... .......... .......... .......... .......... 12% 22.8M 1s\n",
            "   850K .......... .......... .......... .......... .......... 13% 30.8M 1s\n",
            "   900K .......... .......... .......... .......... .......... 14% 19.9M 1s\n",
            "   950K .......... .......... .......... .......... .......... 15% 26.2M 1s\n",
            "  1000K .......... .......... .......... .......... .......... 15% 32.5M 1s\n",
            "  1050K .......... .......... .......... .......... .......... 16% 23.1M 1s\n",
            "  1100K .......... .......... .......... .......... .......... 17% 41.9M 1s\n",
            "  1150K .......... .......... .......... .......... .......... 18% 25.7M 1s\n",
            "  1200K .......... .......... .......... .......... .......... 18% 49.6M 1s\n",
            "  1250K .......... .......... .......... .......... .......... 19% 26.4M 1s\n",
            "  1300K .......... .......... .......... .......... .......... 20% 48.6M 1s\n",
            "  1350K .......... .......... .......... .......... .......... 21% 3.44M 1s\n",
            "  1400K .......... .......... .......... .......... .......... 21% 94.4M 1s\n",
            "  1450K .......... .......... .......... .......... .......... 22% 20.8M 1s\n",
            "  1500K .......... .......... .......... .......... .......... 23% 39.8M 1s\n",
            "  1550K .......... .......... .......... .......... .......... 24% 73.7M 1s\n",
            "  1600K .......... .......... .......... .......... .......... 25% 32.3M 1s\n",
            "  1650K .......... .......... .......... .......... .......... 25% 55.5M 1s\n",
            "  1700K .......... .......... .......... .......... .......... 26%  102M 1s\n",
            "  1750K .......... .......... .......... .......... .......... 27% 34.6M 1s\n",
            "  1800K .......... .......... .......... .......... .......... 28% 42.2M 1s\n",
            "  1850K .......... .......... .......... .......... .......... 28% 40.3M 1s\n",
            "  1900K .......... .......... .......... .......... .......... 29% 51.8M 1s\n",
            "  1950K .......... .......... .......... .......... .......... 30%  140M 1s\n",
            "  2000K .......... .......... .......... .......... .......... 31% 41.0M 1s\n",
            "  2050K .......... .......... .......... .......... .......... 31% 44.6M 1s\n",
            "  2100K .......... .......... .......... .......... .......... 32% 43.0M 1s\n",
            "  2150K .......... .......... .......... .......... .......... 33%  227M 0s\n",
            "  2200K .......... .......... .......... .......... .......... 34% 53.8M 0s\n",
            "  2250K .......... .......... .......... .......... .......... 34% 51.1M 0s\n",
            "  2300K .......... .......... .......... .......... .......... 35% 45.3M 0s\n",
            "  2350K .......... .......... .......... .......... .......... 36% 66.1M 0s\n",
            "  2400K .......... .......... .......... .......... .......... 37%  242M 0s\n",
            "  2450K .......... .......... .......... .......... .......... 37% 50.4M 0s\n",
            "  2500K .......... .......... .......... .......... .......... 38% 45.9M 0s\n",
            "  2550K .......... .......... .......... .......... .......... 39% 63.9M 0s\n",
            "  2600K .......... .......... .......... .......... .......... 40%  200M 0s\n",
            "  2650K .......... .......... .......... .......... .......... 40% 67.8M 0s\n",
            "  2700K .......... .......... .......... .......... .......... 41% 52.1M 0s\n",
            "  2750K .......... .......... .......... .......... .......... 42% 3.63M 0s\n",
            "  2800K .......... .......... .......... .......... .......... 43%  190M 0s\n",
            "  2850K .......... .......... .......... .......... .......... 43%  216M 0s\n",
            "  2900K .......... .......... .......... .......... .......... 44% 35.7M 0s\n",
            "  2950K .......... .......... .......... .......... .......... 45% 32.2M 0s\n",
            "  3000K .......... .......... .......... .......... .......... 46%  221M 0s\n",
            "  3050K .......... .......... .......... .......... .......... 47%  150M 0s\n",
            "  3100K .......... .......... .......... .......... .......... 47%  248M 0s\n",
            "  3150K .......... .......... .......... .......... .......... 48%  106M 0s\n",
            "  3200K .......... .......... .......... .......... .......... 49% 51.0M 0s\n",
            "  3250K .......... .......... .......... .......... .......... 50% 93.6M 0s\n",
            "  3300K .......... .......... .......... .......... .......... 50%  242M 0s\n",
            "  3350K .......... .......... .......... .......... .......... 51% 73.7M 0s\n",
            "  3400K .......... .......... .......... .......... .......... 52% 71.1M 0s\n",
            "  3450K .......... .......... .......... .......... .......... 53% 73.5M 0s\n",
            "  3500K .......... .......... .......... .......... .......... 53%  118M 0s\n",
            "  3550K .......... .......... .......... .......... .......... 54%  250M 0s\n",
            "  3600K .......... .......... .......... .......... .......... 55% 59.9M 0s\n",
            "  3650K .......... .......... .......... .......... .......... 56%  137M 0s\n",
            "  3700K .......... .......... .......... .......... .......... 56% 76.1M 0s\n",
            "  3750K .......... .......... .......... .......... .......... 57% 74.2M 0s\n",
            "  3800K .......... .......... .......... .......... .......... 58%  229M 0s\n",
            "  3850K .......... .......... .......... .......... .......... 59%  133M 0s\n",
            "  3900K .......... .......... .......... .......... .......... 59% 80.6M 0s\n",
            "  3950K .......... .......... .......... .......... .......... 60% 98.9M 0s\n",
            "  4000K .......... .......... .......... .......... .......... 61% 62.1M 0s\n",
            "  4050K .......... .......... .......... .......... .......... 62%  204M 0s\n",
            "  4100K .......... .......... .......... .......... .......... 62%  206M 0s\n",
            "  4150K .......... .......... .......... .......... .......... 63% 81.9M 0s\n",
            "  4200K .......... .......... .......... .......... .......... 64%  124M 0s\n",
            "  4250K .......... .......... .......... .......... .......... 65% 74.1M 0s\n",
            "  4300K .......... .......... .......... .......... .......... 65%  245M 0s\n",
            "  4350K .......... .......... .......... .......... .......... 66%  145M 0s\n",
            "  4400K .......... .......... .......... .......... .......... 67% 59.6M 0s\n",
            "  4450K .......... .......... .......... .......... .......... 68%  157M 0s\n",
            "  4500K .......... .......... .......... .......... .......... 69% 95.3M 0s\n",
            "  4550K .......... .......... .......... .......... .......... 69%  283M 0s\n",
            "  4600K .......... .......... .......... .......... .......... 70%  149M 0s\n",
            "  4650K .......... .......... .......... .......... .......... 71% 98.5M 0s\n",
            "  4700K .......... .......... .......... .......... .......... 72%  115M 0s\n",
            "  4750K .......... .......... .......... .......... .......... 72%  252M 0s\n",
            "  4800K .......... .......... .......... .......... .......... 73%  114M 0s\n",
            "  4850K .......... .......... .......... .......... .......... 74%  124M 0s\n",
            "  4900K .......... .......... .......... .......... .......... 75%  154M 0s\n",
            "  4950K .......... .......... .......... .......... .......... 75%  122M 0s\n",
            "  5000K .......... .......... .......... .......... .......... 76%  167M 0s\n",
            "  5050K .......... .......... .......... .......... .......... 77%  101M 0s\n",
            "  5100K .......... .......... .......... .......... .......... 78% 92.8M 0s\n",
            "  5150K .......... .......... .......... .......... .......... 78%  190M 0s\n",
            "  5200K .......... .......... .......... .......... .......... 79%  128M 0s\n",
            "  5250K .......... .......... .......... .......... .......... 80%  310M 0s\n",
            "  5300K .......... .......... .......... .......... .......... 81% 11.2M 0s\n",
            "  5350K .......... .......... .......... .......... .......... 81%  289M 0s\n",
            "  5400K .......... .......... .......... .......... .......... 82%  293M 0s\n",
            "  5450K .......... .......... .......... .......... .......... 83%  239M 0s\n",
            "  5500K .......... .......... .......... .......... .......... 84%  299M 0s\n",
            "  5550K .......... .......... .......... .......... .......... 84% 5.02M 0s\n",
            "  5600K .......... .......... .......... .......... .......... 85%  319M 0s\n",
            "  5650K .......... .......... .......... .......... .......... 86%  159M 0s\n",
            "  5700K .......... .......... .......... .......... .......... 87%  397M 0s\n",
            "  5750K .......... .......... .......... .......... .......... 87%  121M 0s\n",
            "  5800K .......... .......... .......... .......... .......... 88% 70.2M 0s\n",
            "  5850K .......... .......... .......... .......... .......... 89%  247M 0s\n",
            "  5900K .......... .......... .......... .......... .......... 90% 37.2M 0s\n",
            "  5950K .......... .......... .......... .......... .......... 91%  357M 0s\n",
            "  6000K .......... .......... .......... .......... .......... 91%  179M 0s\n",
            "  6050K .......... .......... .......... .......... .......... 92%  189M 0s\n",
            "  6100K .......... .......... .......... .......... .......... 93%  157M 0s\n",
            "  6150K .......... .......... .......... .......... .......... 94%  217M 0s\n",
            "  6200K .......... .......... .......... .......... .......... 94%  213M 0s\n",
            "  6250K .......... .......... .......... .......... .......... 95%  138M 0s\n",
            "  6300K .......... .......... .......... .......... .......... 96%  155M 0s\n",
            "  6350K .......... .......... .......... .......... .......... 97%  197M 0s\n",
            "  6400K .......... .......... .......... .......... .......... 97%  200M 0s\n",
            "  6450K .......... .......... .......... .......... .......... 98%  160M 0s\n",
            "  6500K .......... .......... .......... .......... .......... 99% 70.5M 0s\n",
            "  6550K .......... .......... .......... .......... ..        100%  241M=0.3s\n",
            "\n",
            "2023-09-25 21:56:39 (20.7 MB/s) - ‘./docs/General%20ledger%20users%20guide.pdf -P docs’ saved [6751120/6751120]\n",
            "\n"
          ]
        }
      ]
    },
    {
      "cell_type": "code",
      "source": [
        "documents = SimpleDirectoryReader('./docs').load_data()"
      ],
      "metadata": {
        "id": "9LaSnLwISdAd"
      },
      "execution_count": 70,
      "outputs": []
    },
    {
      "cell_type": "code",
      "source": [
        "help(documents)"
      ],
      "metadata": {
        "colab": {
          "base_uri": "https://localhost:8080/"
        },
        "id": "z2hPwnPRVT-R",
        "outputId": "38839826-be1d-43e8-d6d8-28772969ba3d"
      },
      "execution_count": 72,
      "outputs": [
        {
          "output_type": "stream",
          "name": "stdout",
          "text": [
            "Help on list object:\n",
            "\n",
            "class list(object)\n",
            " |  list(iterable=(), /)\n",
            " |  \n",
            " |  Built-in mutable sequence.\n",
            " |  \n",
            " |  If no argument is given, the constructor creates a new empty list.\n",
            " |  The argument must be an iterable if specified.\n",
            " |  \n",
            " |  Methods defined here:\n",
            " |  \n",
            " |  __add__(self, value, /)\n",
            " |      Return self+value.\n",
            " |  \n",
            " |  __contains__(self, key, /)\n",
            " |      Return key in self.\n",
            " |  \n",
            " |  __delitem__(self, key, /)\n",
            " |      Delete self[key].\n",
            " |  \n",
            " |  __eq__(self, value, /)\n",
            " |      Return self==value.\n",
            " |  \n",
            " |  __ge__(self, value, /)\n",
            " |      Return self>=value.\n",
            " |  \n",
            " |  __getattribute__(self, name, /)\n",
            " |      Return getattr(self, name).\n",
            " |  \n",
            " |  __getitem__(...)\n",
            " |      x.__getitem__(y) <==> x[y]\n",
            " |  \n",
            " |  __gt__(self, value, /)\n",
            " |      Return self>value.\n",
            " |  \n",
            " |  __iadd__(self, value, /)\n",
            " |      Implement self+=value.\n",
            " |  \n",
            " |  __imul__(self, value, /)\n",
            " |      Implement self*=value.\n",
            " |  \n",
            " |  __init__(self, /, *args, **kwargs)\n",
            " |      Initialize self.  See help(type(self)) for accurate signature.\n",
            " |  \n",
            " |  __iter__(self, /)\n",
            " |      Implement iter(self).\n",
            " |  \n",
            " |  __le__(self, value, /)\n",
            " |      Return self<=value.\n",
            " |  \n",
            " |  __len__(self, /)\n",
            " |      Return len(self).\n",
            " |  \n",
            " |  __lt__(self, value, /)\n",
            " |      Return self<value.\n",
            " |  \n",
            " |  __mul__(self, value, /)\n",
            " |      Return self*value.\n",
            " |  \n",
            " |  __ne__(self, value, /)\n",
            " |      Return self!=value.\n",
            " |  \n",
            " |  __repr__(self, /)\n",
            " |      Return repr(self).\n",
            " |  \n",
            " |  __reversed__(self, /)\n",
            " |      Return a reverse iterator over the list.\n",
            " |  \n",
            " |  __rmul__(self, value, /)\n",
            " |      Return value*self.\n",
            " |  \n",
            " |  __setitem__(self, key, value, /)\n",
            " |      Set self[key] to value.\n",
            " |  \n",
            " |  __sizeof__(self, /)\n",
            " |      Return the size of the list in memory, in bytes.\n",
            " |  \n",
            " |  append(self, object, /)\n",
            " |      Append object to the end of the list.\n",
            " |  \n",
            " |  clear(self, /)\n",
            " |      Remove all items from list.\n",
            " |  \n",
            " |  copy(self, /)\n",
            " |      Return a shallow copy of the list.\n",
            " |  \n",
            " |  count(self, value, /)\n",
            " |      Return number of occurrences of value.\n",
            " |  \n",
            " |  extend(self, iterable, /)\n",
            " |      Extend list by appending elements from the iterable.\n",
            " |  \n",
            " |  index(self, value, start=0, stop=9223372036854775807, /)\n",
            " |      Return first index of value.\n",
            " |      \n",
            " |      Raises ValueError if the value is not present.\n",
            " |  \n",
            " |  insert(self, index, object, /)\n",
            " |      Insert object before index.\n",
            " |  \n",
            " |  pop(self, index=-1, /)\n",
            " |      Remove and return item at index (default last).\n",
            " |      \n",
            " |      Raises IndexError if list is empty or index is out of range.\n",
            " |  \n",
            " |  remove(self, value, /)\n",
            " |      Remove first occurrence of value.\n",
            " |      \n",
            " |      Raises ValueError if the value is not present.\n",
            " |  \n",
            " |  reverse(self, /)\n",
            " |      Reverse *IN PLACE*.\n",
            " |  \n",
            " |  sort(self, /, *, key=None, reverse=False)\n",
            " |      Sort the list in ascending order and return None.\n",
            " |      \n",
            " |      The sort is in-place (i.e. the list itself is modified) and stable (i.e. the\n",
            " |      order of two equal elements is maintained).\n",
            " |      \n",
            " |      If a key function is given, apply it once to each list item and sort them,\n",
            " |      ascending or descending, according to their function values.\n",
            " |      \n",
            " |      The reverse flag can be set to sort in descending order.\n",
            " |  \n",
            " |  ----------------------------------------------------------------------\n",
            " |  Class methods defined here:\n",
            " |  \n",
            " |  __class_getitem__(...) from builtins.type\n",
            " |      See PEP 585\n",
            " |  \n",
            " |  ----------------------------------------------------------------------\n",
            " |  Static methods defined here:\n",
            " |  \n",
            " |  __new__(*args, **kwargs) from builtins.type\n",
            " |      Create and return a new object.  See help(type) for accurate signature.\n",
            " |  \n",
            " |  ----------------------------------------------------------------------\n",
            " |  Data and other attributes defined here:\n",
            " |  \n",
            " |  __hash__ = None\n",
            "\n"
          ]
        }
      ]
    },
    {
      "cell_type": "markdown",
      "metadata": {
        "id": "WeSfheX7LmTK"
      },
      "source": [
        "### Load web documents\n",
        "\n",
        "Load web documents that would be used to answer questions. Feel free to replace the links with the ones you would like to use."
      ]
    },
    {
      "cell_type": "code",
      "execution_count": 8,
      "metadata": {
        "id": "Hr7r0AcPeYxU"
      },
      "outputs": [],
      "source": [
        "#documents = TrafilaturaWebReader().load_data(\n",
        "#    [\n",
        "#        \"https://www.cnn.com/2023/05/18/media/disney-florida-desantis/index.html\",\n",
        "#        \"https://www.cnn.com/2022/11/12/business/disney-hiring-freeze-job-cuts/index.html\"\n",
        "#        ]\n",
        "#)\n"
      ]
    },
    {
      "cell_type": "code",
      "execution_count": 9,
      "metadata": {
        "id": "QUv3aBIUeoKv"
      },
      "outputs": [],
      "source": [
        "# optionally examine the retrieved documents\n",
        "#documents"
      ]
    },
    {
      "cell_type": "markdown",
      "metadata": {
        "id": "gnyqrP3cLmTK"
      },
      "source": [
        "### Create vector store using Redis as Vector Database"
      ]
    },
    {
      "cell_type": "code",
      "execution_count": 73,
      "metadata": {
        "colab": {
          "base_uri": "https://localhost:8080/"
        },
        "id": "2fyVyFvBh7LS",
        "outputId": "20280f9a-0a86-4334-d5b5-4dac9510d1d2"
      },
      "outputs": [
        {
          "output_type": "stream",
          "name": "stdout",
          "text": [
            "Using Redis address: redis://:@localhost:6379\n"
          ]
        },
        {
          "output_type": "execute_result",
          "data": {
            "text/plain": [
              "True"
            ]
          },
          "metadata": {},
          "execution_count": 73
        }
      ],
      "source": [
        "print(f\"Using Redis address: {REDIS_URL}\")\n",
        "vector_store = RedisVectorStore(\n",
        "    index_name=\"docs\",\n",
        "    index_prefix=\"orcl\",\n",
        "    redis_url=REDIS_URL,\n",
        "    overwrite=True\n",
        ")\n",
        "vector_store.client.ping()"
      ]
    },
    {
      "cell_type": "code",
      "execution_count": 74,
      "metadata": {
        "id": "YBU8uIXyizsB"
      },
      "outputs": [],
      "source": [
        "storage_context = StorageContext.from_defaults(vector_store=vector_store)\n",
        "service_context = ServiceContext.from_defaults(chunk_size=100, chunk_overlap=20)\n",
        "index = GPTVectorStoreIndex.from_documents(\n",
        "    documents,\n",
        "    storage_context=storage_context\n",
        ")"
      ]
    },
    {
      "cell_type": "markdown",
      "metadata": {
        "id": "vhLPCV9fLmTL"
      },
      "source": [
        "## Finally - let's ask questions!\n",
        "\n",
        "Examples:\n",
        "- What plans is Disney cancelling?\n",
        "- Who is Bob Chapek?\n",
        "- Why Disney cancelling the plans?"
      ]
    },
    {
      "cell_type": "code",
      "execution_count": 75,
      "metadata": {
        "colab": {
          "base_uri": "https://localhost:8080/"
        },
        "id": "3QKwKOrkdbRV",
        "outputId": "2f8c622a-7f51-433d-d54e-92673a9e6df7"
      },
      "outputs": [
        {
          "output_type": "stream",
          "name": "stdout",
          "text": [
            "Flexfields are a feature in Oracle General Ledger that allow you to customize and tailor the application to fit your organization's unique information needs.\n",
            " There are two types of flexfields: descriptive flexfields and key flexfields.\n",
            "\n",
            "\n",
            "Descriptive flexfields are used to collect additional information that is specific to your organization.\n",
            " They allow you to define segments and prompt for additional information based on previous entries.\n",
            " For example, you can define a descriptive flexfield to collect information about budget organizations, such as the manager and the size of the organization.\n",
            " Descriptive flexfields can be global, collecting the same information all the time, or context-sensitive, collecting different information depending on the situation.\n",
            "\n",
            "\n",
            "Key flexfields, on the other hand, are used to define the structure of your General Ledger accounts.\n",
            " They allow you to design an account structure that best meets the needs of your organization.\n",
            " Key flexfields enable you to define a flexible account structure that accommodates your current organization and anticipates future changes.\n",
            " They also allow for proper classification and grouping of accounts, as well as integration with other financial information sources.\n",
            "\n",
            "\n",
            "In summary, descriptive flexfields are used to collect additional information, while key flexfields are used to define the structure of your accounts.\n",
            "\n"
          ]
        }
      ],
      "source": [
        "query_engine = index.as_query_engine()\n",
        "response = query_engine.query(\"I am very confused about what flexfield is, and what is the difference between descriptive and key. Can you explain please\")\n",
        "print(str(response).replace(\".\", \".\\n\"))"
      ]
    }
  ],
  "metadata": {
    "colab": {
      "provenance": [],
      "include_colab_link": true
    },
    "kernelspec": {
      "display_name": "Python 3",
      "name": "python3"
    },
    "language_info": {
      "name": "python"
    }
  },
  "nbformat": 4,
  "nbformat_minor": 0
}